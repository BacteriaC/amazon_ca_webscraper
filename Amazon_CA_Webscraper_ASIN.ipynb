{
 "cells": [
  {
   "cell_type": "code",
   "execution_count": null,
   "metadata": {
    "collapsed": true
   },
   "outputs": [],
   "source": [
    "# Issue: sometimes the script has be blocked by amazon, try to modify it with headers later\n",
    "import requests\n",
    "import re\n",
    "import csv\n",
    "import pandas as pd\n",
    "\n",
    "def scrape_asin(url):\n",
    "    htmltext = requests.get(url).content\n",
    "\n",
    "    # to avoid the type error, decode the html\n",
    "    htmltext = htmltext.decode('utf-8')\n",
    "\n",
    "    # parse by regex(re) module\n",
    "    pattern = re.compile(r'href=\"https://www.amazon.ca/.*/dp/(.*?)\">')\n",
    "    asin_list = re.findall(pattern, htmltext)\n",
    "    print(asin_list)\n",
    "\n",
    "    asin_list = list(set(asin_list))\n",
    "    asin_len = len(asin_list)\n",
    "    i = 0\n",
    "    # replace value with'#customer'\n",
    "    for i in range(0, asin_len):\n",
    "        if len(asin_list[i]) > 10:\n",
    "            asin_list[i] = 0\n",
    "    # drop the value with '#customer'\n",
    "    asin_list = [i for i in asin_list if i != 0]\n",
    "    asin_list = pd.DataFrame(asin_list)\n",
    "    return(asin_list)\n",
    "#     print(asin_list)\n",
    "    \n",
    "def save_asin():\n",
    "    # define parameters\n",
    "    # pages could be a parameter that being calculated, do it later, test by 2 pages first\n",
    "    savePath = '/REPLACE WITH YOUR PATH/'\n",
    "    pages = 2\n",
    "    keywords = 'REPLACE WITH KEYWORDS'\n",
    "    extracted_list = pd.DataFrame()\n",
    "    # http://www.amazon.ca/s/page=1&keywords=pasta+maker\n",
    "    for i in range(1, pages+1):\n",
    "            url = \"http://www.amazon.ca/s/page=\" + str(i) + \"&keywords=\" + keywords\n",
    "            print(\"Processing: \" + url)\n",
    "            # Calling the scrape function\n",
    "            asin_list_all = scrape_asin(url)\n",
    "            if asin_list_all is not None:\n",
    "                extracted_list = extracted_list.append(asin_list_all)\n",
    "    \n",
    "    fileName = savePath + 'asin_list_all.csv'\n",
    "    extracted_list.to_csv(fileName, encoding='utf-8', index=False)  # avoid saving with index\n",
    "\n",
    "# we use pandas dataframe instead, if you use list to save data you can choose 'with open'\n",
    "#     with open('asin_list_all.csv', 'w') as csvfile:\n",
    "#         writer = csv.writer(csvfile, quoting=csv.QUOTE_ALL)  \n",
    "#         writer.writerow(extracted_list)\n",
    "            \n",
    "if __name__ == \"__main__\":\n",
    "    save_asin()"
   ]
  }
 ],
 "metadata": {
  "kernelspec": {
   "display_name": "Python 2",
   "language": "python",
   "name": "python2"
  },
  "language_info": {
   "codemirror_mode": {
    "name": "ipython",
    "version": 2
   },
   "file_extension": ".py",
   "mimetype": "text/x-python",
   "name": "python",
   "nbconvert_exporter": "python",
   "pygments_lexer": "ipython2",
   "version": "2.7.6"
  }
 },
 "nbformat": 4,
 "nbformat_minor": 0
}
